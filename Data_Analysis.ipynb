{
  "nbformat": 4,
  "nbformat_minor": 0,
  "metadata": {
    "colab": {
      "name": "Data Analysis.ipynb",
      "provenance": [],
      "authorship_tag": "ABX9TyMuKBFs8l4KjQwtahnbTqy/"
    },
    "kernelspec": {
      "name": "python3",
      "display_name": "Python 3"
    },
    "language_info": {
      "name": "python"
    }
  },
  "cells": [
    {
      "cell_type": "code",
      "metadata": {
        "colab": {
          "base_uri": "https://localhost:8080/"
        },
        "id": "f6vOW8UvddEy",
        "outputId": "3b50296d-e4f4-48a8-8064-15de06cf447e"
      },
      "source": [
        "from google.colab import drive\n",
        "drive.mount('/content/drive')"
      ],
      "execution_count": 50,
      "outputs": [
        {
          "output_type": "stream",
          "name": "stdout",
          "text": [
            "Drive already mounted at /content/drive; to attempt to forcibly remount, call drive.mount(\"/content/drive\", force_remount=True).\n"
          ]
        }
      ]
    },
    {
      "cell_type": "markdown",
      "metadata": {
        "id": "1XpC5fjGi8r4"
      },
      "source": [
        "### ***concatenate files***"
      ]
    },
    {
      "cell_type": "code",
      "metadata": {
        "id": "JXVw7ybRiwMP"
      },
      "source": [
        "import os\n",
        "import glob\n",
        "import pandas as pd\n",
        "import matplotlib.pyplot as plt\n",
        "\n",
        "os.chdir(\"/content/drive/MyDrive/Data analysis of Sales/Sales_Data\")"
      ],
      "execution_count": 41,
      "outputs": []
    },
    {
      "cell_type": "code",
      "metadata": {
        "id": "HjY2M3UDjGzV"
      },
      "source": [
        "extension = 'csv'\n",
        "all_filenames = [i for i in glob.glob('*.{}'.format(extension))]"
      ],
      "execution_count": 3,
      "outputs": []
    },
    {
      "cell_type": "code",
      "metadata": {
        "id": "MzTU0SgJjKp9"
      },
      "source": [
        "#combine all files in the list\n",
        "combined_csv = pd.concat([pd.read_csv(f) for f in all_filenames ])\n",
        "#export to csv\n",
        "combined_csv.to_csv( \"all_data.csv\", index=False, encoding='utf-8-sig')"
      ],
      "execution_count": 4,
      "outputs": []
    },
    {
      "cell_type": "markdown",
      "metadata": {
        "id": "jC2JaycIjlD1"
      },
      "source": [
        "### ***Quick EDA***"
      ]
    },
    {
      "cell_type": "code",
      "metadata": {
        "id": "39Ryhw4RjQnN"
      },
      "source": [
        "all_data= pd.read_csv(\"/content/drive/MyDrive/Data analysis of Sales/Sales_Data/all_data.csv\")"
      ],
      "execution_count": 5,
      "outputs": []
    },
    {
      "cell_type": "code",
      "metadata": {
        "colab": {
          "base_uri": "https://localhost:8080/"
        },
        "id": "qEezNFFnjitB",
        "outputId": "463d2a64-3e7e-4421-ed30-47805269e1a1"
      },
      "source": [
        "all_data.shape"
      ],
      "execution_count": 6,
      "outputs": [
        {
          "output_type": "execute_result",
          "data": {
            "text/plain": [
              "(186850, 6)"
            ]
          },
          "metadata": {},
          "execution_count": 6
        }
      ]
    },
    {
      "cell_type": "code",
      "metadata": {
        "colab": {
          "base_uri": "https://localhost:8080/"
        },
        "id": "MA0iYBHdjpjQ",
        "outputId": "a0437aad-002d-4a90-d454-ce6392e4ebbd"
      },
      "source": [
        "all_data.columns"
      ],
      "execution_count": 7,
      "outputs": [
        {
          "output_type": "execute_result",
          "data": {
            "text/plain": [
              "Index(['Order ID', 'Product', 'Quantity Ordered', 'Price Each', 'Order Date',\n",
              "       'Purchase Address'],\n",
              "      dtype='object')"
            ]
          },
          "metadata": {},
          "execution_count": 7
        }
      ]
    },
    {
      "cell_type": "code",
      "metadata": {
        "colab": {
          "base_uri": "https://localhost:8080/",
          "height": 142
        },
        "id": "UQqbRdEAjwFq",
        "outputId": "c803de76-b97c-4c7e-90ba-d058ba88b08c"
      },
      "source": [
        "all_data.head(3)"
      ],
      "execution_count": 8,
      "outputs": [
        {
          "output_type": "execute_result",
          "data": {
            "text/html": [
              "<div>\n",
              "<style scoped>\n",
              "    .dataframe tbody tr th:only-of-type {\n",
              "        vertical-align: middle;\n",
              "    }\n",
              "\n",
              "    .dataframe tbody tr th {\n",
              "        vertical-align: top;\n",
              "    }\n",
              "\n",
              "    .dataframe thead th {\n",
              "        text-align: right;\n",
              "    }\n",
              "</style>\n",
              "<table border=\"1\" class=\"dataframe\">\n",
              "  <thead>\n",
              "    <tr style=\"text-align: right;\">\n",
              "      <th></th>\n",
              "      <th>Order ID</th>\n",
              "      <th>Product</th>\n",
              "      <th>Quantity Ordered</th>\n",
              "      <th>Price Each</th>\n",
              "      <th>Order Date</th>\n",
              "      <th>Purchase Address</th>\n",
              "    </tr>\n",
              "  </thead>\n",
              "  <tbody>\n",
              "    <tr>\n",
              "      <th>0</th>\n",
              "      <td>150502</td>\n",
              "      <td>iPhone</td>\n",
              "      <td>1</td>\n",
              "      <td>700</td>\n",
              "      <td>02/18/19 01:35</td>\n",
              "      <td>866 Spruce St, Portland, ME 04101</td>\n",
              "    </tr>\n",
              "    <tr>\n",
              "      <th>1</th>\n",
              "      <td>150503</td>\n",
              "      <td>AA Batteries (4-pack)</td>\n",
              "      <td>1</td>\n",
              "      <td>3.84</td>\n",
              "      <td>02/13/19 07:24</td>\n",
              "      <td>18 13th St, San Francisco, CA 94016</td>\n",
              "    </tr>\n",
              "    <tr>\n",
              "      <th>2</th>\n",
              "      <td>150504</td>\n",
              "      <td>27in 4K Gaming Monitor</td>\n",
              "      <td>1</td>\n",
              "      <td>389.99</td>\n",
              "      <td>02/18/19 09:46</td>\n",
              "      <td>52 6th St, New York City, NY 10001</td>\n",
              "    </tr>\n",
              "  </tbody>\n",
              "</table>\n",
              "</div>"
            ],
            "text/plain": [
              "  Order ID  ...                     Purchase Address\n",
              "0   150502  ...    866 Spruce St, Portland, ME 04101\n",
              "1   150503  ...  18 13th St, San Francisco, CA 94016\n",
              "2   150504  ...   52 6th St, New York City, NY 10001\n",
              "\n",
              "[3 rows x 6 columns]"
            ]
          },
          "metadata": {},
          "execution_count": 8
        }
      ]
    },
    {
      "cell_type": "code",
      "metadata": {
        "colab": {
          "base_uri": "https://localhost:8080/"
        },
        "id": "2Fb-8L5sjyik",
        "outputId": "dc31a606-9d19-4831-a8fb-dd9d40140c06"
      },
      "source": [
        "all_data.dtypes\n",
        "#quantity need to be int\n",
        "#price => float"
      ],
      "execution_count": 9,
      "outputs": [
        {
          "output_type": "execute_result",
          "data": {
            "text/plain": [
              "Order ID            object\n",
              "Product             object\n",
              "Quantity Ordered    object\n",
              "Price Each          object\n",
              "Order Date          object\n",
              "Purchase Address    object\n",
              "dtype: object"
            ]
          },
          "metadata": {},
          "execution_count": 9
        }
      ]
    },
    {
      "cell_type": "code",
      "metadata": {
        "colab": {
          "base_uri": "https://localhost:8080/"
        },
        "id": "09vu-MN6j7hy",
        "outputId": "e1bd12c0-025b-41e1-95d7-0e8d78fdc6b2"
      },
      "source": [
        "#null values\n",
        "all_data.isnull().sum()"
      ],
      "execution_count": 10,
      "outputs": [
        {
          "output_type": "execute_result",
          "data": {
            "text/plain": [
              "Order ID            545\n",
              "Product             545\n",
              "Quantity Ordered    545\n",
              "Price Each          545\n",
              "Order Date          545\n",
              "Purchase Address    545\n",
              "dtype: int64"
            ]
          },
          "metadata": {},
          "execution_count": 10
        }
      ]
    },
    {
      "cell_type": "code",
      "metadata": {
        "id": "GZoE0vtakJOd"
      },
      "source": [
        "all_data.dropna(how=\"all\",inplace=True)"
      ],
      "execution_count": 15,
      "outputs": []
    },
    {
      "cell_type": "code",
      "metadata": {
        "colab": {
          "base_uri": "https://localhost:8080/"
        },
        "id": "jG_uNda5kP3h",
        "outputId": "cad893be-b3ae-40bb-b53d-f4b01534c0fb"
      },
      "source": [
        "all_data.isnull().sum()"
      ],
      "execution_count": 16,
      "outputs": [
        {
          "output_type": "execute_result",
          "data": {
            "text/plain": [
              "Order ID            0\n",
              "Product             0\n",
              "Quantity Ordered    0\n",
              "Price Each          0\n",
              "Order Date          0\n",
              "Purchase Address    0\n",
              "dtype: int64"
            ]
          },
          "metadata": {},
          "execution_count": 16
        }
      ]
    },
    {
      "cell_type": "markdown",
      "metadata": {
        "id": "_Igvlzg3ky6k"
      },
      "source": [
        "### **The month with the best Sales Revenue**"
      ]
    },
    {
      "cell_type": "code",
      "metadata": {
        "colab": {
          "base_uri": "https://localhost:8080/",
          "height": 142
        },
        "id": "zrlEmmf5kTY1",
        "outputId": "f9d0e3a8-93ff-4ba2-c73a-de162ad5b2f2"
      },
      "source": [
        "all_data.head(3)"
      ],
      "execution_count": 17,
      "outputs": [
        {
          "output_type": "execute_result",
          "data": {
            "text/html": [
              "<div>\n",
              "<style scoped>\n",
              "    .dataframe tbody tr th:only-of-type {\n",
              "        vertical-align: middle;\n",
              "    }\n",
              "\n",
              "    .dataframe tbody tr th {\n",
              "        vertical-align: top;\n",
              "    }\n",
              "\n",
              "    .dataframe thead th {\n",
              "        text-align: right;\n",
              "    }\n",
              "</style>\n",
              "<table border=\"1\" class=\"dataframe\">\n",
              "  <thead>\n",
              "    <tr style=\"text-align: right;\">\n",
              "      <th></th>\n",
              "      <th>Order ID</th>\n",
              "      <th>Product</th>\n",
              "      <th>Quantity Ordered</th>\n",
              "      <th>Price Each</th>\n",
              "      <th>Order Date</th>\n",
              "      <th>Purchase Address</th>\n",
              "    </tr>\n",
              "  </thead>\n",
              "  <tbody>\n",
              "    <tr>\n",
              "      <th>0</th>\n",
              "      <td>150502</td>\n",
              "      <td>iPhone</td>\n",
              "      <td>1</td>\n",
              "      <td>700</td>\n",
              "      <td>02/18/19 01:35</td>\n",
              "      <td>866 Spruce St, Portland, ME 04101</td>\n",
              "    </tr>\n",
              "    <tr>\n",
              "      <th>1</th>\n",
              "      <td>150503</td>\n",
              "      <td>AA Batteries (4-pack)</td>\n",
              "      <td>1</td>\n",
              "      <td>3.84</td>\n",
              "      <td>02/13/19 07:24</td>\n",
              "      <td>18 13th St, San Francisco, CA 94016</td>\n",
              "    </tr>\n",
              "    <tr>\n",
              "      <th>2</th>\n",
              "      <td>150504</td>\n",
              "      <td>27in 4K Gaming Monitor</td>\n",
              "      <td>1</td>\n",
              "      <td>389.99</td>\n",
              "      <td>02/18/19 09:46</td>\n",
              "      <td>52 6th St, New York City, NY 10001</td>\n",
              "    </tr>\n",
              "  </tbody>\n",
              "</table>\n",
              "</div>"
            ],
            "text/plain": [
              "  Order ID  ...                     Purchase Address\n",
              "0   150502  ...    866 Spruce St, Portland, ME 04101\n",
              "1   150503  ...  18 13th St, San Francisco, CA 94016\n",
              "2   150504  ...   52 6th St, New York City, NY 10001\n",
              "\n",
              "[3 rows x 6 columns]"
            ]
          },
          "metadata": {},
          "execution_count": 17
        }
      ]
    },
    {
      "cell_type": "code",
      "metadata": {
        "id": "AmjKqIHpk5q4"
      },
      "source": [
        "# get the month from the order Date.\n",
        "def month(x):\n",
        "  return x.split('/')[0] #first index"
      ],
      "execution_count": 18,
      "outputs": []
    },
    {
      "cell_type": "code",
      "metadata": {
        "colab": {
          "base_uri": "https://localhost:8080/",
          "height": 35
        },
        "id": "5MBytbMblOHi",
        "outputId": "eb941eb9-f0d4-462c-c641-c678a0852ba6"
      },
      "source": [
        "month(\"02/18/19 01:35\")"
      ],
      "execution_count": 20,
      "outputs": [
        {
          "output_type": "execute_result",
          "data": {
            "application/vnd.google.colaboratory.intrinsic+json": {
              "type": "string"
            },
            "text/plain": [
              "'02'"
            ]
          },
          "metadata": {},
          "execution_count": 20
        }
      ]
    },
    {
      "cell_type": "code",
      "metadata": {
        "id": "MHQqq9xJlRxs"
      },
      "source": [
        "all_data[\"Month\"]=all_data['Order Date'].apply(month)"
      ],
      "execution_count": 21,
      "outputs": []
    },
    {
      "cell_type": "code",
      "metadata": {
        "colab": {
          "base_uri": "https://localhost:8080/",
          "height": 142
        },
        "id": "z0zrb2RFliae",
        "outputId": "5938b998-fc98-4339-d57d-408ba3413a9a"
      },
      "source": [
        "all_data.head(3)"
      ],
      "execution_count": 22,
      "outputs": [
        {
          "output_type": "execute_result",
          "data": {
            "text/html": [
              "<div>\n",
              "<style scoped>\n",
              "    .dataframe tbody tr th:only-of-type {\n",
              "        vertical-align: middle;\n",
              "    }\n",
              "\n",
              "    .dataframe tbody tr th {\n",
              "        vertical-align: top;\n",
              "    }\n",
              "\n",
              "    .dataframe thead th {\n",
              "        text-align: right;\n",
              "    }\n",
              "</style>\n",
              "<table border=\"1\" class=\"dataframe\">\n",
              "  <thead>\n",
              "    <tr style=\"text-align: right;\">\n",
              "      <th></th>\n",
              "      <th>Order ID</th>\n",
              "      <th>Product</th>\n",
              "      <th>Quantity Ordered</th>\n",
              "      <th>Price Each</th>\n",
              "      <th>Order Date</th>\n",
              "      <th>Purchase Address</th>\n",
              "      <th>Month</th>\n",
              "    </tr>\n",
              "  </thead>\n",
              "  <tbody>\n",
              "    <tr>\n",
              "      <th>0</th>\n",
              "      <td>150502</td>\n",
              "      <td>iPhone</td>\n",
              "      <td>1</td>\n",
              "      <td>700</td>\n",
              "      <td>02/18/19 01:35</td>\n",
              "      <td>866 Spruce St, Portland, ME 04101</td>\n",
              "      <td>02</td>\n",
              "    </tr>\n",
              "    <tr>\n",
              "      <th>1</th>\n",
              "      <td>150503</td>\n",
              "      <td>AA Batteries (4-pack)</td>\n",
              "      <td>1</td>\n",
              "      <td>3.84</td>\n",
              "      <td>02/13/19 07:24</td>\n",
              "      <td>18 13th St, San Francisco, CA 94016</td>\n",
              "      <td>02</td>\n",
              "    </tr>\n",
              "    <tr>\n",
              "      <th>2</th>\n",
              "      <td>150504</td>\n",
              "      <td>27in 4K Gaming Monitor</td>\n",
              "      <td>1</td>\n",
              "      <td>389.99</td>\n",
              "      <td>02/18/19 09:46</td>\n",
              "      <td>52 6th St, New York City, NY 10001</td>\n",
              "      <td>02</td>\n",
              "    </tr>\n",
              "  </tbody>\n",
              "</table>\n",
              "</div>"
            ],
            "text/plain": [
              "  Order ID                 Product  ...                     Purchase Address Month\n",
              "0   150502                  iPhone  ...    866 Spruce St, Portland, ME 04101    02\n",
              "1   150503   AA Batteries (4-pack)  ...  18 13th St, San Francisco, CA 94016    02\n",
              "2   150504  27in 4K Gaming Monitor  ...   52 6th St, New York City, NY 10001    02\n",
              "\n",
              "[3 rows x 7 columns]"
            ]
          },
          "metadata": {},
          "execution_count": 22
        }
      ]
    },
    {
      "cell_type": "code",
      "metadata": {
        "colab": {
          "base_uri": "https://localhost:8080/"
        },
        "id": "RvQgBgTTlkfC",
        "outputId": "ea55346a-39a4-44e8-fdd7-0eecb42a143e"
      },
      "source": [
        "all_data[\"Month\"].unique()"
      ],
      "execution_count": 24,
      "outputs": [
        {
          "output_type": "execute_result",
          "data": {
            "text/plain": [
              "array(['02', '03', 'Order Date', '04', '05', '08', '09', '12', '01', '06',\n",
              "       '11', '10', '07'], dtype=object)"
            ]
          },
          "metadata": {},
          "execution_count": 24
        }
      ]
    },
    {
      "cell_type": "code",
      "metadata": {
        "colab": {
          "base_uri": "https://localhost:8080/"
        },
        "id": "3_Up1uHznMUA",
        "outputId": "abfd8ca4-4199-4f1a-ca50-3186298fe3fe"
      },
      "source": [
        "all_data=all_data[all_data[\"Month\"]!= 'Order Date']\n",
        "all_data[\"Month\"].unique()"
      ],
      "execution_count": 29,
      "outputs": [
        {
          "output_type": "execute_result",
          "data": {
            "text/plain": [
              "array(['02', '03', '04', '05', '08', '09', '12', '01', '06', '11', '10',\n",
              "       '07'], dtype=object)"
            ]
          },
          "metadata": {},
          "execution_count": 29
        }
      ]
    },
    {
      "cell_type": "code",
      "metadata": {
        "colab": {
          "base_uri": "https://localhost:8080/"
        },
        "id": "6yYmqQACpESr",
        "outputId": "dcf7c877-4c72-472e-b2ae-fc2482b79c02"
      },
      "source": [
        "all_data[\"Month\"]=all_data[\"Month\"].astype(int)"
      ],
      "execution_count": 30,
      "outputs": [
        {
          "output_type": "stream",
          "name": "stderr",
          "text": [
            "/usr/local/lib/python3.7/dist-packages/ipykernel_launcher.py:1: SettingWithCopyWarning: \n",
            "A value is trying to be set on a copy of a slice from a DataFrame.\n",
            "Try using .loc[row_indexer,col_indexer] = value instead\n",
            "\n",
            "See the caveats in the documentation: https://pandas.pydata.org/pandas-docs/stable/user_guide/indexing.html#returning-a-view-versus-a-copy\n",
            "  \"\"\"Entry point for launching an IPython kernel.\n"
          ]
        }
      ]
    },
    {
      "cell_type": "code",
      "metadata": {
        "colab": {
          "base_uri": "https://localhost:8080/"
        },
        "id": "0t0Jvi2spPG7",
        "outputId": "8b401944-77b9-4bbe-e279-f7110ce92a55"
      },
      "source": [
        "all_data.dtypes"
      ],
      "execution_count": 31,
      "outputs": [
        {
          "output_type": "execute_result",
          "data": {
            "text/plain": [
              "Order ID            object\n",
              "Product             object\n",
              "Quantity Ordered    object\n",
              "Price Each          object\n",
              "Order Date          object\n",
              "Purchase Address    object\n",
              "Month                int64\n",
              "dtype: object"
            ]
          },
          "metadata": {},
          "execution_count": 31
        }
      ]
    },
    {
      "cell_type": "code",
      "metadata": {
        "colab": {
          "base_uri": "https://localhost:8080/"
        },
        "id": "vz4LATwppUIf",
        "outputId": "ff40c9be-51e3-46d6-d5f8-3cbb234e04b8"
      },
      "source": [
        "#Sales = unity price * quantity => convert to int, float \n",
        "all_data[\"Price Each\"]=all_data[\"Price Each\"].astype(float)\n",
        "all_data[\"Quantity Ordered\"]=all_data[\"Quantity Ordered\"].astype(int)"
      ],
      "execution_count": 32,
      "outputs": [
        {
          "output_type": "stream",
          "name": "stderr",
          "text": [
            "/usr/local/lib/python3.7/dist-packages/ipykernel_launcher.py:2: SettingWithCopyWarning: \n",
            "A value is trying to be set on a copy of a slice from a DataFrame.\n",
            "Try using .loc[row_indexer,col_indexer] = value instead\n",
            "\n",
            "See the caveats in the documentation: https://pandas.pydata.org/pandas-docs/stable/user_guide/indexing.html#returning-a-view-versus-a-copy\n",
            "  \n",
            "/usr/local/lib/python3.7/dist-packages/ipykernel_launcher.py:3: SettingWithCopyWarning: \n",
            "A value is trying to be set on a copy of a slice from a DataFrame.\n",
            "Try using .loc[row_indexer,col_indexer] = value instead\n",
            "\n",
            "See the caveats in the documentation: https://pandas.pydata.org/pandas-docs/stable/user_guide/indexing.html#returning-a-view-versus-a-copy\n",
            "  This is separate from the ipykernel package so we can avoid doing imports until\n"
          ]
        }
      ]
    },
    {
      "cell_type": "code",
      "metadata": {
        "colab": {
          "base_uri": "https://localhost:8080/"
        },
        "id": "wzGtcb-Tpvrt",
        "outputId": "f2fb78b0-4609-4740-b311-4c8402df1fea"
      },
      "source": [
        "all_data.dtypes"
      ],
      "execution_count": 33,
      "outputs": [
        {
          "output_type": "execute_result",
          "data": {
            "text/plain": [
              "Order ID             object\n",
              "Product              object\n",
              "Quantity Ordered      int64\n",
              "Price Each          float64\n",
              "Order Date           object\n",
              "Purchase Address     object\n",
              "Month                 int64\n",
              "dtype: object"
            ]
          },
          "metadata": {},
          "execution_count": 33
        }
      ]
    },
    {
      "cell_type": "code",
      "metadata": {
        "colab": {
          "base_uri": "https://localhost:8080/"
        },
        "id": "izoLydarpydO",
        "outputId": "9860034f-e53f-4a1a-8133-48d2145f7018"
      },
      "source": [
        "all_data[\"Sales\"]=all_data[\"Price Each\"]*all_data[\"Quantity Ordered\"]"
      ],
      "execution_count": 34,
      "outputs": [
        {
          "output_type": "stream",
          "name": "stderr",
          "text": [
            "/usr/local/lib/python3.7/dist-packages/ipykernel_launcher.py:1: SettingWithCopyWarning: \n",
            "A value is trying to be set on a copy of a slice from a DataFrame.\n",
            "Try using .loc[row_indexer,col_indexer] = value instead\n",
            "\n",
            "See the caveats in the documentation: https://pandas.pydata.org/pandas-docs/stable/user_guide/indexing.html#returning-a-view-versus-a-copy\n",
            "  \"\"\"Entry point for launching an IPython kernel.\n"
          ]
        }
      ]
    },
    {
      "cell_type": "code",
      "metadata": {
        "colab": {
          "base_uri": "https://localhost:8080/",
          "height": 142
        },
        "id": "ZyKfn1osqBKV",
        "outputId": "3c45b134-81c4-4a81-bdb8-cf27673431ff"
      },
      "source": [
        "all_data.head(3)"
      ],
      "execution_count": 35,
      "outputs": [
        {
          "output_type": "execute_result",
          "data": {
            "text/html": [
              "<div>\n",
              "<style scoped>\n",
              "    .dataframe tbody tr th:only-of-type {\n",
              "        vertical-align: middle;\n",
              "    }\n",
              "\n",
              "    .dataframe tbody tr th {\n",
              "        vertical-align: top;\n",
              "    }\n",
              "\n",
              "    .dataframe thead th {\n",
              "        text-align: right;\n",
              "    }\n",
              "</style>\n",
              "<table border=\"1\" class=\"dataframe\">\n",
              "  <thead>\n",
              "    <tr style=\"text-align: right;\">\n",
              "      <th></th>\n",
              "      <th>Order ID</th>\n",
              "      <th>Product</th>\n",
              "      <th>Quantity Ordered</th>\n",
              "      <th>Price Each</th>\n",
              "      <th>Order Date</th>\n",
              "      <th>Purchase Address</th>\n",
              "      <th>Month</th>\n",
              "      <th>Sales</th>\n",
              "    </tr>\n",
              "  </thead>\n",
              "  <tbody>\n",
              "    <tr>\n",
              "      <th>0</th>\n",
              "      <td>150502</td>\n",
              "      <td>iPhone</td>\n",
              "      <td>1</td>\n",
              "      <td>700.00</td>\n",
              "      <td>02/18/19 01:35</td>\n",
              "      <td>866 Spruce St, Portland, ME 04101</td>\n",
              "      <td>2</td>\n",
              "      <td>700.00</td>\n",
              "    </tr>\n",
              "    <tr>\n",
              "      <th>1</th>\n",
              "      <td>150503</td>\n",
              "      <td>AA Batteries (4-pack)</td>\n",
              "      <td>1</td>\n",
              "      <td>3.84</td>\n",
              "      <td>02/13/19 07:24</td>\n",
              "      <td>18 13th St, San Francisco, CA 94016</td>\n",
              "      <td>2</td>\n",
              "      <td>3.84</td>\n",
              "    </tr>\n",
              "    <tr>\n",
              "      <th>2</th>\n",
              "      <td>150504</td>\n",
              "      <td>27in 4K Gaming Monitor</td>\n",
              "      <td>1</td>\n",
              "      <td>389.99</td>\n",
              "      <td>02/18/19 09:46</td>\n",
              "      <td>52 6th St, New York City, NY 10001</td>\n",
              "      <td>2</td>\n",
              "      <td>389.99</td>\n",
              "    </tr>\n",
              "  </tbody>\n",
              "</table>\n",
              "</div>"
            ],
            "text/plain": [
              "  Order ID                 Product  ...  Month   Sales\n",
              "0   150502                  iPhone  ...      2  700.00\n",
              "1   150503   AA Batteries (4-pack)  ...      2    3.84\n",
              "2   150504  27in 4K Gaming Monitor  ...      2  389.99\n",
              "\n",
              "[3 rows x 8 columns]"
            ]
          },
          "metadata": {},
          "execution_count": 35
        }
      ]
    },
    {
      "cell_type": "code",
      "metadata": {
        "id": "PG3osScKqEhG"
      },
      "source": [
        "bestM = all_data.groupby(\"Month\")['Sales'].sum()"
      ],
      "execution_count": 40,
      "outputs": []
    },
    {
      "cell_type": "code",
      "metadata": {
        "colab": {
          "base_uri": "https://localhost:8080/",
          "height": 290
        },
        "id": "cMuy92u0qYpx",
        "outputId": "bda584c5-c9d7-4e68-a667-b3ece6a49d83"
      },
      "source": [
        "months = range(1,13) #exclude 13\n",
        "plt.bar(months,bestM)\n",
        "plt.xticks(months)\n",
        "plt.ylabel(\"Sales in USD\")\n",
        "plt.xlabel(\"Month number\")\n",
        "plt.show()"
      ],
      "execution_count": 42,
      "outputs": [
        {
          "output_type": "display_data",
          "data": {
            "image/png": "[encoded data removed]",
            "text/plain": [
              "<Figure size 432x288 with 1 Axes>"
            ]
          },
          "metadata": {
            "needs_background": "light"
          }
        }
      ]
    },
    {
      "cell_type": "markdown",
      "metadata": {
        "id": "q5x6Z5gYrBvo"
      },
      "source": [
        "### **The city with the highest orders**"
      ]
    },
    {
      "cell_type": "code",
      "metadata": {
        "colab": {
          "base_uri": "https://localhost:8080/",
          "height": 142
        },
        "id": "KCgx6Oeyq9yG",
        "outputId": "06b79f45-6f06-44e0-a351-4e5bbaf62a63"
      },
      "source": [
        "all_data.head(3)"
      ],
      "execution_count": 43,
      "outputs": [
        {
          "output_type": "execute_result",
          "data": {
            "text/html": [
              "<div>\n",
              "<style scoped>\n",
              "    .dataframe tbody tr th:only-of-type {\n",
              "        vertical-align: middle;\n",
              "    }\n",
              "\n",
              "    .dataframe tbody tr th {\n",
              "        vertical-align: top;\n",
              "    }\n",
              "\n",
              "    .dataframe thead th {\n",
              "        text-align: right;\n",
              "    }\n",
              "</style>\n",
              "<table border=\"1\" class=\"dataframe\">\n",
              "  <thead>\n",
              "    <tr style=\"text-align: right;\">\n",
              "      <th></th>\n",
              "      <th>Order ID</th>\n",
              "      <th>Product</th>\n",
              "      <th>Quantity Ordered</th>\n",
              "      <th>Price Each</th>\n",
              "      <th>Order Date</th>\n",
              "      <th>Purchase Address</th>\n",
              "      <th>Month</th>\n",
              "      <th>Sales</th>\n",
              "    </tr>\n",
              "  </thead>\n",
              "  <tbody>\n",
              "    <tr>\n",
              "      <th>0</th>\n",
              "      <td>150502</td>\n",
              "      <td>iPhone</td>\n",
              "      <td>1</td>\n",
              "      <td>700.00</td>\n",
              "      <td>02/18/19 01:35</td>\n",
              "      <td>866 Spruce St, Portland, ME 04101</td>\n",
              "      <td>2</td>\n",
              "      <td>700.00</td>\n",
              "    </tr>\n",
              "    <tr>\n",
              "      <th>1</th>\n",
              "      <td>150503</td>\n",
              "      <td>AA Batteries (4-pack)</td>\n",
              "      <td>1</td>\n",
              "      <td>3.84</td>\n",
              "      <td>02/13/19 07:24</td>\n",
              "      <td>18 13th St, San Francisco, CA 94016</td>\n",
              "      <td>2</td>\n",
              "      <td>3.84</td>\n",
              "    </tr>\n",
              "    <tr>\n",
              "      <th>2</th>\n",
              "      <td>150504</td>\n",
              "      <td>27in 4K Gaming Monitor</td>\n",
              "      <td>1</td>\n",
              "      <td>389.99</td>\n",
              "      <td>02/18/19 09:46</td>\n",
              "      <td>52 6th St, New York City, NY 10001</td>\n",
              "      <td>2</td>\n",
              "      <td>389.99</td>\n",
              "    </tr>\n",
              "  </tbody>\n",
              "</table>\n",
              "</div>"
            ],
            "text/plain": [
              "  Order ID                 Product  ...  Month   Sales\n",
              "0   150502                  iPhone  ...      2  700.00\n",
              "1   150503   AA Batteries (4-pack)  ...      2    3.84\n",
              "2   150504  27in 4K Gaming Monitor  ...      2  389.99\n",
              "\n",
              "[3 rows x 8 columns]"
            ]
          },
          "metadata": {},
          "execution_count": 43
        }
      ]
    },
    {
      "cell_type": "code",
      "metadata": {
        "colab": {
          "base_uri": "https://localhost:8080/",
          "height": 35
        },
        "id": "-UBnu5qCrO_v",
        "outputId": "cc221562-ac6e-4d0d-a681-3a715d0637b3"
      },
      "source": [
        "\"52 6th St, New York City, NY 10001\".split(',')[1]"
      ],
      "execution_count": 44,
      "outputs": [
        {
          "output_type": "execute_result",
          "data": {
            "application/vnd.google.colaboratory.intrinsic+json": {
              "type": "string"
            },
            "text/plain": [
              "' New York City'"
            ]
          },
          "metadata": {},
          "execution_count": 44
        }
      ]
    },
    {
      "cell_type": "code",
      "metadata": {
        "id": "M9RLvYiprdnR"
      },
      "source": [
        "# get the month from the order Date.\n",
        "def city(x):\n",
        "  return x.split(',')[1] #first index"
      ],
      "execution_count": 45,
      "outputs": []
    },
    {
      "cell_type": "code",
      "metadata": {
        "colab": {
          "base_uri": "https://localhost:8080/"
        },
        "id": "EcBHOEabrk_I",
        "outputId": "a345d237-0b41-47dd-ee47-a230e7b8a1a2"
      },
      "source": [
        "all_data[\"city\"]=all_data['Purchase Address'].apply(city)"
      ],
      "execution_count": 46,
      "outputs": [
        {
          "output_type": "stream",
          "name": "stderr",
          "text": [
            "/usr/local/lib/python3.7/dist-packages/ipykernel_launcher.py:1: SettingWithCopyWarning: \n",
            "A value is trying to be set on a copy of a slice from a DataFrame.\n",
            "Try using .loc[row_indexer,col_indexer] = value instead\n",
            "\n",
            "See the caveats in the documentation: https://pandas.pydata.org/pandas-docs/stable/user_guide/indexing.html#returning-a-view-versus-a-copy\n",
            "  \"\"\"Entry point for launching an IPython kernel.\n"
          ]
        }
      ]
    },
    {
      "cell_type": "code",
      "metadata": {
        "colab": {
          "base_uri": "https://localhost:8080/",
          "height": 142
        },
        "id": "RLCJ8p46ryh9",
        "outputId": "fd2dcba3-026a-40d7-c78b-4fdf9da20bd4"
      },
      "source": [
        "all_data.head(3)"
      ],
      "execution_count": 47,
      "outputs": [
        {
          "output_type": "execute_result",
          "data": {
            "text/html": [
              "<div>\n",
              "<style scoped>\n",
              "    .dataframe tbody tr th:only-of-type {\n",
              "        vertical-align: middle;\n",
              "    }\n",
              "\n",
              "    .dataframe tbody tr th {\n",
              "        vertical-align: top;\n",
              "    }\n",
              "\n",
              "    .dataframe thead th {\n",
              "        text-align: right;\n",
              "    }\n",
              "</style>\n",
              "<table border=\"1\" class=\"dataframe\">\n",
              "  <thead>\n",
              "    <tr style=\"text-align: right;\">\n",
              "      <th></th>\n",
              "      <th>Order ID</th>\n",
              "      <th>Product</th>\n",
              "      <th>Quantity Ordered</th>\n",
              "      <th>Price Each</th>\n",
              "      <th>Order Date</th>\n",
              "      <th>Purchase Address</th>\n",
              "      <th>Month</th>\n",
              "      <th>Sales</th>\n",
              "      <th>city</th>\n",
              "    </tr>\n",
              "  </thead>\n",
              "  <tbody>\n",
              "    <tr>\n",
              "      <th>0</th>\n",
              "      <td>150502</td>\n",
              "      <td>iPhone</td>\n",
              "      <td>1</td>\n",
              "      <td>700.00</td>\n",
              "      <td>02/18/19 01:35</td>\n",
              "      <td>866 Spruce St, Portland, ME 04101</td>\n",
              "      <td>2</td>\n",
              "      <td>700.00</td>\n",
              "      <td>Portland</td>\n",
              "    </tr>\n",
              "    <tr>\n",
              "      <th>1</th>\n",
              "      <td>150503</td>\n",
              "      <td>AA Batteries (4-pack)</td>\n",
              "      <td>1</td>\n",
              "      <td>3.84</td>\n",
              "      <td>02/13/19 07:24</td>\n",
              "      <td>18 13th St, San Francisco, CA 94016</td>\n",
              "      <td>2</td>\n",
              "      <td>3.84</td>\n",
              "      <td>San Francisco</td>\n",
              "    </tr>\n",
              "    <tr>\n",
              "      <th>2</th>\n",
              "      <td>150504</td>\n",
              "      <td>27in 4K Gaming Monitor</td>\n",
              "      <td>1</td>\n",
              "      <td>389.99</td>\n",
              "      <td>02/18/19 09:46</td>\n",
              "      <td>52 6th St, New York City, NY 10001</td>\n",
              "      <td>2</td>\n",
              "      <td>389.99</td>\n",
              "      <td>New York City</td>\n",
              "    </tr>\n",
              "  </tbody>\n",
              "</table>\n",
              "</div>"
            ],
            "text/plain": [
              "  Order ID                 Product  ...   Sales            city\n",
              "0   150502                  iPhone  ...  700.00        Portland\n",
              "1   150503   AA Batteries (4-pack)  ...    3.84   San Francisco\n",
              "2   150504  27in 4K Gaming Monitor  ...  389.99   New York City\n",
              "\n",
              "[3 rows x 9 columns]"
            ]
          },
          "metadata": {},
          "execution_count": 47
        }
      ]
    },
    {
      "cell_type": "code",
      "metadata": {
        "id": "kZwgK-Pfr27W"
      },
      "source": [
        "City = all_data.groupby(\"city\")[\"city\"].count()"
      ],
      "execution_count": 48,
      "outputs": []
    },
    {
      "cell_type": "code",
      "metadata": {
        "colab": {
          "base_uri": "https://localhost:8080/"
        },
        "id": "Fde7Z4qkr_3x",
        "outputId": "711802f9-da22-4ca7-c52b-cc7d0a6e3a04"
      },
      "source": [
        "City"
      ],
      "execution_count": 49,
      "outputs": [
        {
          "output_type": "execute_result",
          "data": {
            "text/plain": [
              "city\n",
              " Atlanta          14881\n",
              " Austin            9905\n",
              " Boston           19934\n",
              " Dallas           14820\n",
              " Los Angeles      29605\n",
              " New York City    24876\n",
              " Portland         12465\n",
              " San Francisco    44732\n",
              " Seattle          14732\n",
              "Name: city, dtype: int64"
            ]
          },
          "metadata": {},
          "execution_count": 49
        }
      ]
    },
    {
      "cell_type": "code",
      "metadata": {
        "colab": {
          "base_uri": "https://localhost:8080/",
          "height": 341
        },
        "id": "flEQri_dsCED",
        "outputId": "648b2d01-34ad-43d5-b430-80701a8ad399"
      },
      "source": [
        "plt.bar(City.index,City.values)\n",
        "plt.xticks(rotation=\"vertical\")\n",
        "plt.ylabel(\"Orders\")\n",
        "plt.xlabel(\"Name\")\n",
        "plt.show()"
      ],
      "execution_count": 52,
      "outputs": [
        {
          "output_type": "display_data",
          "data": {
            "image/png": "[encoded data removed]",
            "text/plain": [
              "<Figure size 432x288 with 1 Axes>"
            ]
          },
          "metadata": {
            "needs_background": "light"
          }
        }
      ]
    },
    {
      "cell_type": "markdown",
      "metadata": {
        "id": "_wg-q94bD582"
      },
      "source": [
        "### ***When to use ads to have more sales***"
      ]
    },
    {
      "cell_type": "code",
      "metadata": {
        "colab": {
          "base_uri": "https://localhost:8080/"
        },
        "id": "JJhLwJ5TDseK",
        "outputId": "ad644acf-9477-4b0c-db34-fe30e5b2fab5"
      },
      "source": [
        "all_data['Hour']=pd.to_datetime(all_data['Order Date']).dt.hour"
      ],
      "execution_count": 53,
      "outputs": [
        {
          "output_type": "stream",
          "name": "stderr",
          "text": [
            "/usr/local/lib/python3.7/dist-packages/ipykernel_launcher.py:1: SettingWithCopyWarning: \n",
            "A value is trying to be set on a copy of a slice from a DataFrame.\n",
            "Try using .loc[row_indexer,col_indexer] = value instead\n",
            "\n",
            "See the caveats in the documentation: https://pandas.pydata.org/pandas-docs/stable/user_guide/indexing.html#returning-a-view-versus-a-copy\n",
            "  \"\"\"Entry point for launching an IPython kernel.\n"
          ]
        }
      ]
    },
    {
      "cell_type": "code",
      "metadata": {
        "colab": {
          "base_uri": "https://localhost:8080/",
          "height": 142
        },
        "id": "jKndLvFvESvR",
        "outputId": "3bb0b8a3-4895-435d-bab9-a7d88fe868ec"
      },
      "source": [
        "all_data.head(3)"
      ],
      "execution_count": 54,
      "outputs": [
        {
          "output_type": "execute_result",
          "data": {
            "text/html": [
              "<div>\n",
              "<style scoped>\n",
              "    .dataframe tbody tr th:only-of-type {\n",
              "        vertical-align: middle;\n",
              "    }\n",
              "\n",
              "    .dataframe tbody tr th {\n",
              "        vertical-align: top;\n",
              "    }\n",
              "\n",
              "    .dataframe thead th {\n",
              "        text-align: right;\n",
              "    }\n",
              "</style>\n",
              "<table border=\"1\" class=\"dataframe\">\n",
              "  <thead>\n",
              "    <tr style=\"text-align: right;\">\n",
              "      <th></th>\n",
              "      <th>Order ID</th>\n",
              "      <th>Product</th>\n",
              "      <th>Quantity Ordered</th>\n",
              "      <th>Price Each</th>\n",
              "      <th>Order Date</th>\n",
              "      <th>Purchase Address</th>\n",
              "      <th>Month</th>\n",
              "      <th>Sales</th>\n",
              "      <th>city</th>\n",
              "      <th>Hour</th>\n",
              "    </tr>\n",
              "  </thead>\n",
              "  <tbody>\n",
              "    <tr>\n",
              "      <th>0</th>\n",
              "      <td>150502</td>\n",
              "      <td>iPhone</td>\n",
              "      <td>1</td>\n",
              "      <td>700.00</td>\n",
              "      <td>02/18/19 01:35</td>\n",
              "      <td>866 Spruce St, Portland, ME 04101</td>\n",
              "      <td>2</td>\n",
              "      <td>700.00</td>\n",
              "      <td>Portland</td>\n",
              "      <td>1</td>\n",
              "    </tr>\n",
              "    <tr>\n",
              "      <th>1</th>\n",
              "      <td>150503</td>\n",
              "      <td>AA Batteries (4-pack)</td>\n",
              "      <td>1</td>\n",
              "      <td>3.84</td>\n",
              "      <td>02/13/19 07:24</td>\n",
              "      <td>18 13th St, San Francisco, CA 94016</td>\n",
              "      <td>2</td>\n",
              "      <td>3.84</td>\n",
              "      <td>San Francisco</td>\n",
              "      <td>7</td>\n",
              "    </tr>\n",
              "    <tr>\n",
              "      <th>2</th>\n",
              "      <td>150504</td>\n",
              "      <td>27in 4K Gaming Monitor</td>\n",
              "      <td>1</td>\n",
              "      <td>389.99</td>\n",
              "      <td>02/18/19 09:46</td>\n",
              "      <td>52 6th St, New York City, NY 10001</td>\n",
              "      <td>2</td>\n",
              "      <td>389.99</td>\n",
              "      <td>New York City</td>\n",
              "      <td>9</td>\n",
              "    </tr>\n",
              "  </tbody>\n",
              "</table>\n",
              "</div>"
            ],
            "text/plain": [
              "  Order ID                 Product  ...            city  Hour\n",
              "0   150502                  iPhone  ...        Portland     1\n",
              "1   150503   AA Batteries (4-pack)  ...   San Francisco     7\n",
              "2   150504  27in 4K Gaming Monitor  ...   New York City     9\n",
              "\n",
              "[3 rows x 10 columns]"
            ]
          },
          "metadata": {},
          "execution_count": 54
        }
      ]
    },
    {
      "cell_type": "code",
      "metadata": {
        "colab": {
          "base_uri": "https://localhost:8080/"
        },
        "id": "p-ZwoQ49EY5O",
        "outputId": "70a08f92-a9ff-4824-8c3a-17b209da63c1"
      },
      "source": [
        "keys=[]\n",
        "hours=[]\n",
        "for key,hour in all_data.groupby(\"Hour\"):\n",
        "  keys.append(key)\n",
        "  hours.append(len(hour))\n",
        "hours"
      ],
      "execution_count": 55,
      "outputs": [
        {
          "output_type": "execute_result",
          "data": {
            "text/plain": [
              "[3910,\n",
              " 2350,\n",
              " 1243,\n",
              " 831,\n",
              " 854,\n",
              " 1321,\n",
              " 2482,\n",
              " 4011,\n",
              " 6256,\n",
              " 8748,\n",
              " 10944,\n",
              " 12411,\n",
              " 12587,\n",
              " 12129,\n",
              " 10984,\n",
              " 10175,\n",
              " 10384,\n",
              " 10899,\n",
              " 12280,\n",
              " 12905,\n",
              " 12228,\n",
              " 10921,\n",
              " 8822,\n",
              " 6275]"
            ]
          },
          "metadata": {},
          "execution_count": 55
        }
      ]
    },
    {
      "cell_type": "code",
      "metadata": {
        "colab": {
          "base_uri": "https://localhost:8080/",
          "height": 296
        },
        "id": "eJp4ouRlEq4P",
        "outputId": "d7215b4c-a209-4da8-9ac8-f6416c6a87d0"
      },
      "source": [
        "plt.grid()\n",
        "plt.plot(keys,hours)\n",
        "plt.xlabel(\"Hours\")\n",
        "plt.ylabel(\"nb of orders\")"
      ],
      "execution_count": 56,
      "outputs": [
        {
          "output_type": "execute_result",
          "data": {
            "text/plain": [
              "Text(0, 0.5, 'nb of orders')"
            ]
          },
          "metadata": {},
          "execution_count": 56
        },
        {
          "output_type": "display_data",
          "data": {
            "image/png": "[encoded data removed]",
            "text/plain": [
              "<Figure size 432x288 with 1 Axes>"
            ]
          },
          "metadata": {
            "needs_background": "light"
          }
        }
      ]
    },
    {
      "cell_type": "markdown",
      "metadata": {
        "id": "VjJ7hmdlFGSF"
      },
      "source": [
        "### ***best sold product***"
      ]
    },
    {
      "cell_type": "code",
      "metadata": {
        "colab": {
          "base_uri": "https://localhost:8080/",
          "height": 437
        },
        "id": "PDZUz6rWE6c2",
        "outputId": "ea89d52c-e1d1-40ab-a34c-f83a6f431045"
      },
      "source": [
        "all_data.groupby(\"Product\")['Quantity Ordered'].sum().plot(kind=\"bar\")"
      ],
      "execution_count": 57,
      "outputs": [
        {
          "output_type": "execute_result",
          "data": {
            "text/plain": [
              "<matplotlib.axes._subplots.AxesSubplot at 0x7f045bfe8390>"
            ]
          },
          "metadata": {},
          "execution_count": 57
        },
        {
          "output_type": "display_data",
          "data": {
            "image/png": "[encoded data removed]",
            "text/plain": [
              "<Figure size 432x288 with 1 Axes>"
            ]
          },
          "metadata": {
            "needs_background": "light"
          }
        }
      ]
    },
    {
      "cell_type": "code",
      "metadata": {
        "colab": {
          "base_uri": "https://localhost:8080/"
        },
        "id": "Tcz7-_5hFV8f",
        "outputId": "a6264b4a-7481-46c3-bfff-c80215be60d7"
      },
      "source": [
        "all_data.groupby(\"Product\")['Price Each'].mean()"
      ],
      "execution_count": 58,
      "outputs": [
        {
          "output_type": "execute_result",
          "data": {
            "text/plain": [
              "Product\n",
              "20in Monitor                   109.99\n",
              "27in 4K Gaming Monitor         389.99\n",
              "27in FHD Monitor               149.99\n",
              "34in Ultrawide Monitor         379.99\n",
              "AA Batteries (4-pack)            3.84\n",
              "AAA Batteries (4-pack)           2.99\n",
              "Apple Airpods Headphones       150.00\n",
              "Bose SoundSport Headphones      99.99\n",
              "Flatscreen TV                  300.00\n",
              "Google Phone                   600.00\n",
              "LG Dryer                       600.00\n",
              "LG Washing Machine             600.00\n",
              "Lightning Charging Cable        14.95\n",
              "Macbook Pro Laptop            1700.00\n",
              "ThinkPad Laptop                999.99\n",
              "USB-C Charging Cable            11.95\n",
              "Vareebadd Phone                400.00\n",
              "Wired Headphones                11.99\n",
              "iPhone                         700.00\n",
              "Name: Price Each, dtype: float64"
            ]
          },
          "metadata": {},
          "execution_count": 58
        }
      ]
    },
    {
      "cell_type": "code",
      "metadata": {
        "id": "9gglYpW-Fe2V"
      },
      "source": [
        "products = all_data.groupby(\"Product\")['Quantity Ordered'].sum().index\n",
        "quantity =  all_data.groupby(\"Product\")['Quantity Ordered'].sum()\n",
        "prices = all_data.groupby(\"Product\")['Price Each'].mean()"
      ],
      "execution_count": 59,
      "outputs": []
    },
    {
      "cell_type": "code",
      "metadata": {
        "colab": {
          "base_uri": "https://localhost:8080/",
          "height": 701
        },
        "id": "kL67DCttFyNy",
        "outputId": "d834f7c3-e6d5-4304-e9f7-c135e0dee944"
      },
      "source": [
        "plt.figure(figsize=(16,40))\n",
        "fig,ax1=plt.subplots()\n",
        "ax2=ax1.twinx()\n",
        "ax1.bar(products,quantity,color=\"b\")\n",
        "ax1.plot(products,prices,color=\"g\")\n",
        "ax1.set_xticklabels(products,rotation='vertical',size=7)"
      ],
      "execution_count": 63,
      "outputs": [
        {
          "output_type": "execute_result",
          "data": {
            "text/plain": [
              "[Text(0, 0, '20in Monitor'),\n",
              " Text(0, 0, '27in 4K Gaming Monitor'),\n",
              " Text(0, 0, '27in FHD Monitor'),\n",
              " Text(0, 0, '34in Ultrawide Monitor'),\n",
              " Text(0, 0, 'AA Batteries (4-pack)'),\n",
              " Text(0, 0, 'AAA Batteries (4-pack)'),\n",
              " Text(0, 0, 'Apple Airpods Headphones'),\n",
              " Text(0, 0, 'Bose SoundSport Headphones'),\n",
              " Text(0, 0, 'Flatscreen TV'),\n",
              " Text(0, 0, 'Google Phone'),\n",
              " Text(0, 0, 'LG Dryer'),\n",
              " Text(0, 0, 'LG Washing Machine'),\n",
              " Text(0, 0, 'Lightning Charging Cable'),\n",
              " Text(0, 0, 'Macbook Pro Laptop'),\n",
              " Text(0, 0, 'ThinkPad Laptop'),\n",
              " Text(0, 0, 'USB-C Charging Cable'),\n",
              " Text(0, 0, 'Vareebadd Phone'),\n",
              " Text(0, 0, 'Wired Headphones'),\n",
              " Text(0, 0, 'iPhone')]"
            ]
          },
          "metadata": {},
          "execution_count": 63
        },
        {
          "output_type": "display_data",
          "data": {
            "text/plain": [
              "<Figure size 1152x2880 with 0 Axes>"
            ]
          },
          "metadata": {}
        },
        {
          "output_type": "display_data",
          "data": {
            "image/png": "[encoded data removed]",
            "text/plain": [
              "<Figure size 432x288 with 2 Axes>"
            ]
          },
          "metadata": {
            "needs_background": "light"
          }
        }
      ]
    },
    {
      "cell_type": "markdown",
      "metadata": {
        "id": "eg5DoRsFGlts"
      },
      "source": [
        "### ***Pair of products that goes two by two***"
      ]
    },
    {
      "cell_type": "code",
      "metadata": {
        "id": "Ju807TZEGUux"
      },
      "source": [
        " df = all_data[all_data['Order ID'].duplicated(keep= False)]"
      ],
      "execution_count": 64,
      "outputs": []
    },
    {
      "cell_type": "code",
      "metadata": {
        "colab": {
          "base_uri": "https://localhost:8080/"
        },
        "id": "eaMKxhuDKgHu",
        "outputId": "feac2b95-76c3-4d71-aadf-bb5c182d65ca"
      },
      "source": [
        "df['Grouped']=df.groupby('Order ID')[\"Product\"].transform(lambda x: \",\".join(x))"
      ],
      "execution_count": 65,
      "outputs": [
        {
          "output_type": "stream",
          "name": "stderr",
          "text": [
            "/usr/local/lib/python3.7/dist-packages/ipykernel_launcher.py:1: SettingWithCopyWarning: \n",
            "A value is trying to be set on a copy of a slice from a DataFrame.\n",
            "Try using .loc[row_indexer,col_indexer] = value instead\n",
            "\n",
            "See the caveats in the documentation: https://pandas.pydata.org/pandas-docs/stable/user_guide/indexing.html#returning-a-view-versus-a-copy\n",
            "  \"\"\"Entry point for launching an IPython kernel.\n"
          ]
        }
      ]
    },
    {
      "cell_type": "code",
      "metadata": {
        "colab": {
          "base_uri": "https://localhost:8080/",
          "height": 142
        },
        "id": "MLKITYn8KwO-",
        "outputId": "5401d79c-1284-4972-bb0c-d06b7862424b"
      },
      "source": [
        "df.head(3)"
      ],
      "execution_count": 66,
      "outputs": [
        {
          "output_type": "execute_result",
          "data": {
            "text/html": [
              "<div>\n",
              "<style scoped>\n",
              "    .dataframe tbody tr th:only-of-type {\n",
              "        vertical-align: middle;\n",
              "    }\n",
              "\n",
              "    .dataframe tbody tr th {\n",
              "        vertical-align: top;\n",
              "    }\n",
              "\n",
              "    .dataframe thead th {\n",
              "        text-align: right;\n",
              "    }\n",
              "</style>\n",
              "<table border=\"1\" class=\"dataframe\">\n",
              "  <thead>\n",
              "    <tr style=\"text-align: right;\">\n",
              "      <th></th>\n",
              "      <th>Order ID</th>\n",
              "      <th>Product</th>\n",
              "      <th>Quantity Ordered</th>\n",
              "      <th>Price Each</th>\n",
              "      <th>Order Date</th>\n",
              "      <th>Purchase Address</th>\n",
              "      <th>Month</th>\n",
              "      <th>Sales</th>\n",
              "      <th>city</th>\n",
              "      <th>Hour</th>\n",
              "      <th>Grouped</th>\n",
              "    </tr>\n",
              "  </thead>\n",
              "  <tbody>\n",
              "    <tr>\n",
              "      <th>16</th>\n",
              "      <td>150518</td>\n",
              "      <td>Macbook Pro Laptop</td>\n",
              "      <td>1</td>\n",
              "      <td>1700.0</td>\n",
              "      <td>02/26/19 12:38</td>\n",
              "      <td>847 10th St, San Francisco, CA 94016</td>\n",
              "      <td>2</td>\n",
              "      <td>1700.0</td>\n",
              "      <td>San Francisco</td>\n",
              "      <td>12</td>\n",
              "      <td>Macbook Pro Laptop,iPhone</td>\n",
              "    </tr>\n",
              "    <tr>\n",
              "      <th>17</th>\n",
              "      <td>150518</td>\n",
              "      <td>iPhone</td>\n",
              "      <td>1</td>\n",
              "      <td>700.0</td>\n",
              "      <td>02/26/19 12:38</td>\n",
              "      <td>847 10th St, San Francisco, CA 94016</td>\n",
              "      <td>2</td>\n",
              "      <td>700.0</td>\n",
              "      <td>San Francisco</td>\n",
              "      <td>12</td>\n",
              "      <td>Macbook Pro Laptop,iPhone</td>\n",
              "    </tr>\n",
              "    <tr>\n",
              "      <th>82</th>\n",
              "      <td>150582</td>\n",
              "      <td>iPhone</td>\n",
              "      <td>1</td>\n",
              "      <td>700.0</td>\n",
              "      <td>02/16/19 23:38</td>\n",
              "      <td>678 Maple St, Seattle, WA 98101</td>\n",
              "      <td>2</td>\n",
              "      <td>700.0</td>\n",
              "      <td>Seattle</td>\n",
              "      <td>23</td>\n",
              "      <td>iPhone,Lightning Charging Cable</td>\n",
              "    </tr>\n",
              "  </tbody>\n",
              "</table>\n",
              "</div>"
            ],
            "text/plain": [
              "   Order ID             Product  ...  Hour                          Grouped\n",
              "16   150518  Macbook Pro Laptop  ...    12        Macbook Pro Laptop,iPhone\n",
              "17   150518              iPhone  ...    12        Macbook Pro Laptop,iPhone\n",
              "82   150582              iPhone  ...    23  iPhone,Lightning Charging Cable\n",
              "\n",
              "[3 rows x 11 columns]"
            ]
          },
          "metadata": {},
          "execution_count": 66
        }
      ]
    },
    {
      "cell_type": "code",
      "metadata": {
        "id": "rrI95JAkKzv4"
      },
      "source": [
        "df2=df.drop_duplicates(subset=[\"Order ID\"])"
      ],
      "execution_count": 68,
      "outputs": []
    },
    {
      "cell_type": "code",
      "metadata": {
        "colab": {
          "base_uri": "https://localhost:8080/",
          "height": 265
        },
        "id": "ji17PYfgLKBV",
        "outputId": "cb4f854b-d0db-4223-a991-1d7160425ba1"
      },
      "source": [
        "df2[\"Grouped\"].value_counts()[0:5].plot.pie()"
      ],
      "execution_count": 69,
      "outputs": [
        {
          "output_type": "execute_result",
          "data": {
            "text/plain": [
              "<matplotlib.axes._subplots.AxesSubplot at 0x7f045e791850>"
            ]
          },
          "metadata": {},
          "execution_count": 69
        },
        {
          "output_type": "display_data",
          "data": {
            "image/png": "[encoded data removed]",
            "text/plain": [
              "<Figure size 432x288 with 1 Axes>"
            ]
          },
          "metadata": {}
        }
      ]
    },
    {
      "cell_type": "code",
      "metadata": {
        "id": "imj5DrmQLYSE"
      },
      "source": [
        ""
      ],
      "execution_count": null,
      "outputs": []
    }
  ]
}